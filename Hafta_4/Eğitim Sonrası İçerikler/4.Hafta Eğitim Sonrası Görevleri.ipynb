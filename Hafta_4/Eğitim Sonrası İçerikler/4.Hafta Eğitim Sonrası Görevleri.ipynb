{
 "cells": [
  {
   "cell_type": "markdown",
   "metadata": {},
   "source": [
    "# Problem 1\n",
    "`ogrenciler` adında bir sözlük oluşturunuz. Kullanıcıdan döngü yardımıyla 3 öğrenci için veri girmesini isteyerek öğrencilerin sırasıyla okul numarası, isim, soy isim, telefon numarası ve doğum tarihi bilgilerini alınız. Aldığınız öğrenci bilgilerini yine aynı döngü yardımıyla `ogrenciler` adındaki sözlükte saklayınız. Daha sonra öğrenci bilgilerinin bulunduğu sözlük yapısını ekrana bastırınız.\n",
    "\n"
   ]
  },
  {
   "cell_type": "code",
   "execution_count": 1,
   "metadata": {},
   "outputs": [
    {
     "name": "stdout",
     "output_type": "stream",
     "text": [
      "\n",
      "Öğrenci Bilgileri:\n",
      "Okul numarası: 100\n",
      "İsim: Ali\n",
      "Telefon numarası: +90***\n",
      "Doğum Tarihi: 2001\n",
      "Okul numarası: 101\n",
      "İsim: Emir\n",
      "Telefon numarası: +90***\n",
      "Doğum Tarihi: 2002\n",
      "Okul numarası: 102\n",
      "İsim: İrem\n",
      "Telefon numarası: +90***\n",
      "Doğum Tarihi: 2003\n"
     ]
    }
   ],
   "source": [
    "# 1.Problemin Çözümünü Buraya Yazınız\n",
    "ogrenciler = {}\n",
    "\n",
    "for i in range(3):\n",
    "    okul_numarasi = input(\"Öğrencinin okul numarasını giriniz: \")\n",
    "    isim = input(\"Öğrencinin ismini giriniz: \")\n",
    "    telefon_numarasi = input(\"Öğrencinin telefon numarasını giriniz: \")\n",
    "    dogum_tarihi = input(\"Öğrencinin doğum tarihini giriniz: \")\n",
    "\n",
    "    ogrenciler[okul_numarasi] = {\n",
    "        \"isim\" : isim,\n",
    "        \"telefon_numarasi\" : telefon_numarasi,\n",
    "        \"dogum_tarihi\" : dogum_tarihi\n",
    "    }\n",
    "\n",
    "print(\"\\nÖğrenci Bilgileri:\")    \n",
    "for okul_numarasi, bilgiler in ogrenciler.items():\n",
    "    print(f\"Okul numarası: {okul_numarasi}\")\n",
    "    print(f\"İsim: {bilgiler[\"isim\"]}\")\n",
    "    print(f\"Telefon numarası: {bilgiler[\"telefon_numarasi\"]}\")\n",
    "    print(f\"Doğum Tarihi: {bilgiler['dogum_tarihi']}\")\n"
   ]
  },
  {
   "cell_type": "markdown",
   "metadata": {},
   "source": [
    "# Problem 2\n",
    "\n",
    "### a - Biraz ısınarak başlayalım!\n",
    "\n",
    "```\n",
    "numbers = [5,10,10,15,15,15,20,20,20,20]\n",
    "```\n",
    "\n",
    "Yukarıda `numbers` adında 10 elemanlı bir liste verilmiştir. Bu listenin her elemanını kontrol eden ve tekrar eden elemanları bir kez olacak şekilde başka bir listeye kopyalayan bir program yazınız. Son olarak oluşturduğunuz listeyi ekrana bastırınız.\n",
    "\n",
    "\n",
    "\n",
    "\n",
    "```\n",
    ">Output\n",
    "[5, 10, 15, 20]\n",
    "```\n"
   ]
  },
  {
   "cell_type": "code",
   "execution_count": 6,
   "metadata": {},
   "outputs": [
    {
     "name": "stdout",
     "output_type": "stream",
     "text": [
      "[5, 10, 15, 20]\n"
     ]
    }
   ],
   "source": [
    "# 2.Problemin a Şıkkının Çözümünü Buraya Yazınız\n",
    "numbers = [5,10,10,15,15,15,20,20,20,20]\n",
    "\n",
    "unique = []\n",
    "\n",
    "for i in numbers: \n",
    "    # unique içinde o sayı varsa o sayıyı atla\n",
    "    if i in unique:\n",
    "        continue\n",
    "\n",
    "    #unique içinde o sayı yoksa listeye o sayı eklensin\n",
    "    else:\n",
    "        unique.append(i)\n",
    "\n",
    "print(unique)        "
   ]
  },
  {
   "cell_type": "markdown",
   "metadata": {},
   "source": [
    "### 🌶️ b) Hadi işi biraz daha zorlaştıralım! \n",
    "\n",
    "\n",
    "Şimdiyse senden `numbers` isimli listedeki tekrar eden elemanları `repeatNumbers` adındaki listeye; tekrar etmeyen elemanları `uniqueNumbers`adındaki listeye kopyalayan yazmanı ve listeleri ekrana bastırmanı bekliyoruz\n",
    "\n",
    "```\n",
    ">Output\n",
    "Tekrar Eden Elemanlar: [10, 10, 15, 15, 15, 20, 20, 20, 20]\n",
    "Tekrar Etmeyen Elemanlar: [5]\n",
    "```"
   ]
  },
  {
   "cell_type": "code",
   "execution_count": 7,
   "metadata": {},
   "outputs": [
    {
     "name": "stdout",
     "output_type": "stream",
     "text": [
      "Tekrar eden elemanlar: [10, 10, 15, 15, 15, 20, 20, 20, 20]\n",
      "Tekrar etmeyen elemanlar: [5]\n"
     ]
    }
   ],
   "source": [
    "# 2.Problemin b Şıkkının Çözümünü Buraya Yazınız\n",
    "numbers = [5,10,10,15,15,15,20,20,20,20]\n",
    "\n",
    "uniqueNumbers = []\n",
    "repeatNumbers = []\n",
    "\n",
    "for number in numbers:\n",
    "    # numbers listesinde elemandan 1 tane varsa unique listesine ekleyelim\n",
    "    if numbers.count(number) == 1:\n",
    "        uniqueNumbers.append(number)\n",
    "    # yoksa repeat listesine ekleyelim\n",
    "    else:\n",
    "        repeatNumbers.append(number)   \n",
    "\n",
    "print(f\"Tekrar eden elemanlar: {repeatNumbers}\")    \n",
    "print(f\"Tekrar etmeyen elemanlar: {uniqueNumbers}\")     \n"
   ]
  },
  {
   "cell_type": "markdown",
   "metadata": {},
   "source": [
    "# Problem 3\n",
    "sn1 = {1,2,3,4,5}\n",
    "\n",
    "sn2 = {4,5,6,7,8}\n",
    "\n",
    " Verilen 2 adet küme için kesişimlerini, farklarını ve birleşimlerini bulunuz. "
   ]
  },
  {
   "cell_type": "code",
   "execution_count": 16,
   "metadata": {},
   "outputs": [
    {
     "name": "stdout",
     "output_type": "stream",
     "text": [
      "{4, 5}\n",
      "{1, 2, 3}\n",
      "{1, 2, 3, 4, 5, 6, 7, 8}\n"
     ]
    }
   ],
   "source": [
    "# 3.Problemin Çözümünü Buraya Yazınız\n",
    "sn1 = {1,2,3,4,5}\n",
    "sn2 = {4,5,6,7,8}\n",
    "\n",
    "# Kesişim\n",
    "kesisim = sn1.intersection(sn2)\n",
    "print(kesisim)\n",
    "\n",
    "# Fark \n",
    "fark = sn1.difference(sn2)\n",
    "print(fark)\n",
    "\n",
    "# Birleşim\n",
    "birlesim = sn1.union(sn2)\n",
    "print(birlesim)\n"
   ]
  },
  {
   "cell_type": "markdown",
   "metadata": {},
   "source": [
    "# Problem 4\n",
    "\n",
    "Buradaki işlemlerimizin tamamı stringler içindir. Aşağıda verilecek olan metodlar için kendinizin örnek yaratması gerekmektedir. \n",
    "\n",
    "Örneğin `upper` için `string` değişkeni oluştururken` k = \"BAC\"` şeklinde oluşturmayınız. Bunun yerine k değişkenini `k = \"bac`\" şeklinde oluşturmanız `upper` metodundaki değişimi görebilmeniz için daha iyi olacaktır.\n",
    "\n",
    "Bütün metodlardaki değişimin gözle görülür şekilde değişimi beklenmektedir.\n",
    "\n",
    "\n",
    "1- capitalize(), lower(), upper(), swapcase(), title(), replace()\n",
    "\n",
    "2- endswith(), startswith(), find(), index(), count()\n",
    "\n",
    "3- split(), strip(), join(), islower(), isalpha(), isdigit()\n",
    "\n",
    "\n",
    "Yukarıdaki `string` metodlarındaki değişimleri görebildiğimiz bir program yazınız.\n"
   ]
  },
  {
   "cell_type": "code",
   "execution_count": 52,
   "metadata": {},
   "outputs": [
    {
     "name": "stdout",
     "output_type": "stream",
     "text": [
      "Merhaba YetGenli, bol şans!\n",
      "Merhaba yetgenli, bol şans!\n",
      "merhaba yetgenli, bol şans!\n",
      "MERHABA YETGENLI, BOL ŞANS!\n",
      "mERHABA yETgENLI, BOL ŞANS!\n",
      "Merhaba Yetgenli, Bol Şans!\n",
      "Selam YetGenli, bol şans!\n",
      "\n",
      "True\n",
      "True\n",
      "22\n",
      "18\n",
      "1\n",
      "\n",
      "['Merhaba', 'YetGenli,', 'bol', 'şans!']\n",
      "Merhaba YetGenli, bol şans!\n",
      "Merhaba&YetGenli,&bol&şans!\n",
      "False\n",
      "False\n",
      "False\n"
     ]
    }
   ],
   "source": [
    "# 4.Problemin Çözümünü Buraya Yazınız\n",
    "k = \"Merhaba YetGenli, bol şans!\"\n",
    "print(k)\n",
    "\n",
    "# capitalize, lower, upper, swapcase, title, replace\n",
    "print(k.capitalize())\n",
    "print(k.lower())\n",
    "print(k.upper())\n",
    "print(k.swapcase())\n",
    "print(k.title())\n",
    "print(k.replace(\"Merhaba\", \"Selam\"))\n",
    "\n",
    "# endswith, startswith, find, index, count\n",
    "print()\n",
    "print(k.endswith(\"!\"))\n",
    "print(k.startswith(\"Merhaba\"))\n",
    "print(k.find(\"şans\"))\n",
    "print(k.index(\"bol\"))\n",
    "print(k.count(\"Merhaba\"))\n",
    "\n",
    "# split: stringi belirli bir ayıraca göre böler\n",
    "# strip: stringin başındaki ve sonundaki boşlukları veya belirtilen karakterleri kaldırır\n",
    "# join: listenin içindeki stringleri belirtilen ayıraç ile birleştirir\n",
    "# islower: stringdeki tüm harfler küçük mü? \n",
    "# isalpha: string yalnızca harflerden mi oluşuyor?\n",
    "# isdigit: string yalnızca rakamlardan mı oluşuyor?\n",
    "print()\n",
    "print(k.split(\" \"))\n",
    "\n",
    "k = \"      Merhaba YetGenli, bol şans!     \"\n",
    "print(k.strip())\n",
    "\n",
    "x = [\"Merhaba\", \"YetGenli,\", \"bol\", \"şans!\"]\n",
    "print(\"&\".join(x))\n",
    "\n",
    "k = \"Merhaba YetGenli, bol şans!\"\n",
    "print(k.islower())\n",
    "print(k.isalpha())\n",
    "print(k.isalpha())\n",
    "                 \n",
    "                 "
   ]
  }
 ],
 "metadata": {
  "kernelspec": {
   "display_name": "Python 3.10.5 64-bit",
   "language": "python",
   "name": "python3"
  },
  "language_info": {
   "codemirror_mode": {
    "name": "ipython",
    "version": 3
   },
   "file_extension": ".py",
   "mimetype": "text/x-python",
   "name": "python",
   "nbconvert_exporter": "python",
   "pygments_lexer": "ipython3",
   "version": "3.12.3"
  },
  "orig_nbformat": 4,
  "vscode": {
   "interpreter": {
    "hash": "5026d2d6e7aaaaba093def813beadff083d8733e4a511af01735cbabd156995d"
   }
  }
 },
 "nbformat": 4,
 "nbformat_minor": 2
}
